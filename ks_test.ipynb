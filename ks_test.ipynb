{
 "cells": [
  {
   "cell_type": "code",
   "execution_count": 1,
   "id": "57ccc3cf",
   "metadata": {},
   "outputs": [],
   "source": [
    "import matplotlib.pyplot as plt\n",
    "import pandas as pd\n",
    "import numpy as np\n",
    "import scipy\n",
    "from scipy.stats.stats import _attempt_exact_2kssamp, _compute_prob_outside_square, distributions\n",
    "from math import gcd\n",
    "import os, sys\n",
    "import warnings"
   ]
  },
  {
   "cell_type": "code",
   "execution_count": 2,
   "id": "9182474f",
   "metadata": {},
   "outputs": [],
   "source": [
    "def imp_sample(rho_array, rho_obs):\n",
    "    '''\n",
    "    Perform standard importance sampling from rho_tilde --> {e, omega}\n",
    "    \n",
    "    Args:\n",
    "    rho_array [array]: sampled data for pseudo-density rho_tilde\n",
    "    rho_obs [tuple]: values of the true stellar density and its uncertainty\n",
    "    \n",
    "    Output:\n",
    "    weights [array]: importance sampling weights\n",
    "    ecc [array]: random values drawn uniformly from 0 to 1, with array length = len(rho_array)\n",
    "    omega [array]:random values drawn uniformly from -pi/2 to 3pi/2, with array length = len(rho_array)\n",
    "    '''\n",
    "    \n",
    "    ecc = np.random.uniform(0., 1., len(rho_array))\n",
    "    omega = np.random.uniform(-0.5*np.pi, 1.5*np.pi, len(rho_array))\n",
    "\n",
    "    g = (1 + ecc * np.sin(omega)) / np.sqrt(1 - ecc ** 2)\n",
    "    rho = rho_array / g ** 3\n",
    "\n",
    "    log_weight = -0.5 * ((rho - rho_obs[0]) / rho_obs[1]) ** 2\n",
    "    weight_rho = np.exp(log_weight - np.max(log_weight))\n",
    "    weight_rho /= np.sum(weight_rho)\n",
    "\n",
    "    weights = np.array(weight_rho/np.sum(weight_rho))\n",
    "    \n",
    "    return weights, ecc, omega\n",
    "\n",
    "\n",
    "def check_weights(w, n, idx):\n",
    "    '''\n",
    "    Check for weights; if None, then give uniform weights\n",
    "    \n",
    "    Args:\n",
    "    w [array or None]: weights of data or None\n",
    "    n [int]: length of data that will be weighted\n",
    "    idx [array]: sorted index values of data\n",
    "    \n",
    "    Output:\n",
    "    output:\n",
    "    w_out [array]: numerical weights from input OR uniform weights if 'w' == None\n",
    "    '''\n",
    "    if w is None: \n",
    "        w_out = np.full(n, 1/n)\n",
    "    else:\n",
    "        w_out = w[idx]\n",
    "    return w_out\n",
    "\n",
    "\n",
    "def plt_cdf(inputs, saveplot=False, show=False):\n",
    "    '''\n",
    "    Plot CDF of data within 'ks_2samp_weights' function.\n",
    "    Gives 2-panel plot of CDF for both samples (top) and delta_CDF between samples (bottom)\n",
    "    \n",
    "    Args:\n",
    "    inputs [list]: list containing N (length of sample data), cdf1 and cdf2 (CDFs of data samples)\n",
    "    saveplot [bool or str]: if False, don't save the plot; if str, then save plot to file name given by 'saveplot'\n",
    "    show [bool]: whether or not to show the plot\n",
    "    \n",
    "    Output:\n",
    "    fig [figure]: two-panel figure (which can optionally be output or saved)\n",
    "    '''\n",
    "    N, cdf1, cdf2 = inputs\n",
    "    fig, (ax1, ax2) = plt.subplots(2, 1, gridspec_kw={'height_ratios': [3, 2]}, figsize=(6,6))\n",
    "    ax1.set_ylabel('CDF', fontsize=20)\n",
    "    ax1.set_xlabel('Samples', fontsize=20)\n",
    "    ax1.plot(cdf1[:N], lw=3, label='Data1', alpha=0.5)\n",
    "    ax1.plot(cdf2[:N], lw=3, label='Data2', alpha=0.5)\n",
    "    ax1.legend(fontsize=15)\n",
    "    \n",
    "    ax2.plot((cdf1-cdf2)[:N])\n",
    "    ax2.axhline(0, ls='--', color='k', alpha=0.4)\n",
    "    ax2.set_ylabel('del_CDF', fontsize=20)\n",
    "    ax2.set_xlabel('Samples', fontsize=20)\n",
    "    fig.set_tight_layout(True)\n",
    "    \n",
    "    if saveplot != False and type(saveplot) == str:\n",
    "        fig.savefig(saveplot);\n",
    "    if show == False:\n",
    "        plt.close();\n"
   ]
  },
  {
   "cell_type": "code",
   "execution_count": null,
   "id": "6d6547ed",
   "metadata": {},
   "outputs": [],
   "source": []
  },
  {
   "cell_type": "code",
   "execution_count": 3,
   "id": "20252315",
   "metadata": {},
   "outputs": [],
   "source": [
    "def ks_2samp_weights(data1, data2, weights1=None, weights2=None, saveplot=False, show=False, alternative='two-sided', mode='auto'):\n",
    "    \n",
    "    '''\n",
    "    MY NEW DOCUMENTATION FOR INCLUDING DATA WEIGHTS:\n",
    "    \n",
    "    SciPy's 'ks_2samp' (https://github.com/scipy/scipy/blob/v1.8.0/scipy/stats/_stats_py.py#L7275-L7449)\n",
    "    but with weights applied to either input sample\n",
    "    \n",
    "    Args:\n",
    "    data1 [array]: first input data sample\n",
    "    data2 [array]: second input data sample\n",
    "    weights1 [array or None]: weights of 'data1' or None\n",
    "    weights2 [array or None]: weights of 'data2' or None\n",
    "    saveplot [bool or str]: if False, don't save the plot; if str, then save plot to file name given by 'saveplot'\n",
    "    show [bool]: whether or not to show the plot\n",
    "    \n",
    "    Output:\n",
    "    ks_results [dict]: contains 'statistic' for KS statistic and 'pvalue' for p-value of statistic\n",
    "    cdf1 [array]: weighted CDF of 'data1'\n",
    "    cdf2 [array]: weighted CDF of 'data2'\n",
    "    '''\n",
    "    \n",
    "    \n",
    "    \"\"\"\n",
    "    ORIGINAL DOCUMENTATION FOR 'ks_2sampe' FROM SCIPY:\n",
    "    \n",
    "    Performs the two-sample Kolmogorov-Smirnov test for goodness of fit.\n",
    "    This test compares the underlying continuous distributions F(x) and G(x)\n",
    "    of two independent samples.  See Notes for a description\n",
    "    of the available null and alternative hypotheses.\n",
    "    Parameters\n",
    "    ----------\n",
    "    data1, data2 : array_like, 1-Dimensional\n",
    "        Two arrays of sample observations assumed to be drawn from a continuous\n",
    "        distribution, sample sizes can be different.\n",
    "    alternative : {'two-sided', 'less', 'greater'}, optional\n",
    "        Defines the null and alternative hypotheses. Default is 'two-sided'.\n",
    "        Please see explanations in the Notes below.\n",
    "    mode : {'auto', 'exact', 'asymp'}, optional\n",
    "        Defines the method used for calculating the p-value.\n",
    "        The following options are available (default is 'auto'):\n",
    "          * 'auto' : use 'exact' for small size arrays, 'asymp' for large\n",
    "          * 'exact' : use exact distribution of test statistic\n",
    "          * 'asymp' : use asymptotic distribution of test statistic\n",
    "    Returns\n",
    "    -------\n",
    "    statistic : float\n",
    "        KS statistic.\n",
    "    pvalue : float\n",
    "        One-tailed or two-tailed p-value.\n",
    "    See Also\n",
    "    --------\n",
    "    kstest, ks_1samp, epps_singleton_2samp, anderson_ksamp\n",
    "    Notes\n",
    "    -----\n",
    "    There are three options for the null and corresponding alternative\n",
    "    hypothesis that can be selected using the `alternative` parameter.\n",
    "    - `two-sided`: The null hypothesis is that the two distributions are\n",
    "      identical, F(x)=G(x) for all x; the alternative is that they are not\n",
    "      identical.\n",
    "    - `less`: The null hypothesis is that F(x) >= G(x) for all x; the\n",
    "      alternative is that F(x) < G(x) for at least one x.\n",
    "    - `greater`: The null hypothesis is that F(x) <= G(x) for all x; the\n",
    "      alternative is that F(x) > G(x) for at least one x.\n",
    "    Note that the alternative hypotheses describe the *CDFs* of the\n",
    "    underlying distributions, not the observed values. For example,\n",
    "    suppose x1 ~ F and x2 ~ G. If F(x) > G(x) for all x, the values in\n",
    "    x1 tend to be less than those in x2.\n",
    "    If the KS statistic is small or the p-value is high, then we cannot\n",
    "    reject the null hypothesis in favor of the alternative.\n",
    "    If the mode is 'auto', the computation is exact if the sample sizes are\n",
    "    less than 10000.  For larger sizes, the computation uses the\n",
    "    Kolmogorov-Smirnov distributions to compute an approximate value.\n",
    "    The 'two-sided' 'exact' computation computes the complementary probability\n",
    "    and then subtracts from 1.  As such, the minimum probability it can return\n",
    "    is about 1e-16.  While the algorithm itself is exact, numerical\n",
    "    errors may accumulate for large sample sizes.   It is most suited to\n",
    "    situations in which one of the sample sizes is only a few thousand.\n",
    "    We generally follow Hodges' treatment of Drion/Gnedenko/Korolyuk [1]_.\n",
    "    References\n",
    "    ----------\n",
    "    .. [1] Hodges, J.L. Jr.,  \"The Significance Probability of the Smirnov\n",
    "           Two-Sample Test,\" Arkiv fiur Matematik, 3, No. 43 (1958), 469-86.\n",
    "    Examples\n",
    "    --------\n",
    "    >>> from scipy import stats\n",
    "    >>> rng = np.random.default_rng()\n",
    "    >>> n1 = 200  # size of first sample\n",
    "    >>> n2 = 300  # size of second sample\n",
    "    For a different distribution, we can reject the null hypothesis since the\n",
    "    pvalue is below 1%:\n",
    "    >>> rvs1 = stats.norm.rvs(size=n1, loc=0., scale=1, random_state=rng)\n",
    "    >>> rvs2 = stats.norm.rvs(size=n2, loc=0.5, scale=1.5, random_state=rng)\n",
    "    >>> stats.ks_2samp(rvs1, rvs2)\n",
    "     KstestResult(statistic=0.24833333333333332, pvalue=5.846586728086578e-07)\n",
    "    For a slightly different distribution, we cannot reject the null hypothesis\n",
    "    at a 10% or lower alpha since the p-value at 0.144 is higher than 10%\n",
    "    >>> rvs3 = stats.norm.rvs(size=n2, loc=0.01, scale=1.0, random_state=rng)\n",
    "    >>> stats.ks_2samp(rvs1, rvs3)\n",
    "    KstestResult(statistic=0.07833333333333334, pvalue=0.4379658456442945)\n",
    "    For an identical distribution, we cannot reject the null hypothesis since\n",
    "    the p-value is high, 41%:\n",
    "    >>> rvs4 = stats.norm.rvs(size=n2, loc=0.0, scale=1.0, random_state=rng)\n",
    "    >>> stats.ks_2samp(rvs1, rvs4)\n",
    "    KstestResult(statistic=0.12166666666666667, pvalue=0.05401863039081145)\n",
    "    \"\"\"\n",
    "    if mode not in ['auto', 'exact', 'asymp']:\n",
    "        raise ValueError(f'Invalid value for mode: {mode}')\n",
    "    alternative = {'t': 'two-sided', 'g': 'greater', 'l': 'less'}.get(\n",
    "       alternative.lower()[0], alternative)\n",
    "    if alternative not in ['two-sided', 'less', 'greater']:\n",
    "        raise ValueError(f'Invalid value for alternative: {alternative}')\n",
    "    MAX_AUTO_N = 10000  # 'auto' will attempt to be exact if n1,n2 <= MAX_AUTO_N\n",
    "    if np.ma.is_masked(data1):\n",
    "        data1 = data1.compressed()\n",
    "    if np.ma.is_masked(data2):\n",
    "        data2 = data2.compressed()\n",
    "        \n",
    "        \n",
    "    ######################################\n",
    "    ### Added to account for weights ####\n",
    "    \n",
    "    idx1 = np.argsort(data1)\n",
    "    idx2 = np.argsort(data2)\n",
    "    data1 = data1[idx1]\n",
    "    data2 = data2[idx2]\n",
    "\n",
    "    n1 = data1.shape[0]\n",
    "    n2 = data2.shape[0]\n",
    "    if min(n1, n2) == 0:\n",
    "        raise ValueError('Data passed to ks_2samp must not be empty')\n",
    "\n",
    "    weights1 = check_weights(weights1, n1, idx1)\n",
    "    weights2 = check_weights(weights2, n2, idx2)\n",
    "\n",
    "    data_all = np.concatenate([data1, data2])\n",
    "\n",
    "    cumsum_weights1 = np.hstack([0, np.cumsum(weights1)/sum(weights1)])\n",
    "    cumsum_weights2 = np.hstack([0, np.cumsum(weights2)/sum(weights2)])\n",
    "\n",
    "    cdf1 = cumsum_weights1[np.searchsorted(data1, data_all, side='right')]\n",
    "    cdf2 = cumsum_weights2[np.searchsorted(data2, data_all, side='right')]\n",
    "\n",
    "    if (show==True) or (saveplot != False and type(saveplot) == str):\n",
    "        if n1 == n2:\n",
    "            inputs = [n1, cdf1, cdf2]\n",
    "            plt_cdf(inputs, saveplot, show)\n",
    "        else:\n",
    "            print('Plot manually instead! n1 != n2')\n",
    "\n",
    "    ######################################\n",
    "    \n",
    "    cddiffs = cdf1 - cdf2\n",
    "    # Ensure sign of minS is not negative.\n",
    "    minS = np.clip(-np.min(cddiffs), 0, 1)\n",
    "    maxS = np.max(cddiffs)\n",
    "    alt2Dvalue = {'less': minS, 'greater': maxS, 'two-sided': max(minS, maxS)}\n",
    "    d = alt2Dvalue[alternative]\n",
    "    g = gcd(n1, n2)\n",
    "    n1g = n1 // g\n",
    "    n2g = n2 // g\n",
    "    prob = -np.inf\n",
    "    original_mode = mode\n",
    "    if mode == 'auto':\n",
    "        mode = 'exact' if max(n1, n2) <= MAX_AUTO_N else 'asymp'\n",
    "    elif mode == 'exact':\n",
    "        # If lcm(n1, n2) is too big, switch from exact to asymp\n",
    "        if n1g >= np.iinfo(np.int32).max / n2g:\n",
    "            mode = 'asymp'\n",
    "            warnings.warn(\n",
    "                f\"Exact ks_2samp calculation not possible with samples sizes \"\n",
    "                f\"{n1} and {n2}. Switching to 'asymp'.\", RuntimeWarning)\n",
    "\n",
    "    if mode == 'exact':\n",
    "        success, d, prob = _attempt_exact_2kssamp(n1, n2, g, d, alternative)\n",
    "        if not success:\n",
    "            mode = 'asymp'\n",
    "            if original_mode == 'exact':\n",
    "                warnings.warn(f\"ks_2samp: Exact calculation unsuccessful. \"\n",
    "                              f\"Switching to mode={mode}.\", RuntimeWarning)\n",
    "\n",
    "    if mode == 'asymp':\n",
    "        # The product n1*n2 is large.  Use Smirnov's asymptoptic formula.\n",
    "        # Ensure float to avoid overflow in multiplication\n",
    "        # sorted because the one-sided formula is not symmetric in n1, n2\n",
    "        m, n = sorted([float(n1), float(n2)], reverse=True)\n",
    "        en = m * n / (m + n)\n",
    "        if alternative == 'two-sided':\n",
    "            prob = distributions.kstwo.sf(d, np.round(en))\n",
    "        else:\n",
    "            z = np.sqrt(en) * d\n",
    "            # Use Hodges' suggested approximation Eqn 5.3\n",
    "            # Requires m to be the larger of (n1, n2)\n",
    "            expt = -2 * z**2 - 2 * z * (m + 2*n)/np.sqrt(m*n*(m+n))/3.0\n",
    "            prob = np.exp(expt)\n",
    "\n",
    "    prob = np.clip(prob, 0, 1)\n",
    "    ks_results = {'statistic':d, 'pvalue':prob}\n",
    "    return ks_results, cdf1, cdf2\n"
   ]
  },
  {
   "cell_type": "markdown",
   "id": "3d898aeb",
   "metadata": {},
   "source": [
    "# Testing the new function"
   ]
  },
  {
   "cell_type": "code",
   "execution_count": 4,
   "id": "3856206a",
   "metadata": {},
   "outputs": [
    {
     "name": "stdout",
     "output_type": "stream",
     "text": [
      "Result from original SciPy function: {'statistic': 0.007050000000000001, 'pvalue': 0.7001240704240935}\n",
      "Result from new function w/ weights: {'statistic': 0.007049999999999945, 'pvalue': 0.7001240704241029}\n"
     ]
    },
    {
     "data": {
      "image/png": "[encoded data removed]",
      "text/plain": [
       "<Figure size 432x432 with 2 Axes>"
      ]
     },
     "metadata": {
      "needs_background": "light"
     },
     "output_type": "display_data"
    }
   ],
   "source": [
    "# Test that 'ks_2samp_weights' works for two identical gaussians\n",
    "# Compare result with that of 'ks_2samp'\n",
    "\n",
    "N = int(20000)\n",
    "d1 = np.random.normal(0,1,N)\n",
    "d2 = np.random.normal(0,1,N)\n",
    "\n",
    "w1 = None\n",
    "w2 = None\n",
    "\n",
    "ks_stats, cdf1, cdf2 = ks_2samp_weights(d1, d2, w1, w2, \n",
    "                                        saveplot=False, show=True)\n",
    "\n",
    "ks_scipy_results = scipy.stats.ks_2samp(d1, d2)\n",
    "ks_stats_scipy = {'statistic': ks_scipy_results.statistic, 'pvalue': ks_scipy_results.pvalue}\n",
    "\n",
    "print('Result from original SciPy function:', ks_stats_scipy)\n",
    "print('Result from new function w/ weights:', ks_stats)"
   ]
  },
  {
   "cell_type": "markdown",
   "id": "98694c60",
   "metadata": {},
   "source": [
    "# Test on real data"
   ]
  },
  {
   "cell_type": "markdown",
   "id": "718bc598",
   "metadata": {},
   "source": [
    "Now try 'ks_2samp_weights' on real data from an injection-recovery scenario"
   ]
  },
  {
   "cell_type": "code",
   "execution_count": 5,
   "id": "692df858",
   "metadata": {},
   "outputs": [],
   "source": [
    "test = 'test6-s20-b0.48-e0.05-w90'\n",
    "date = '09Feb22'\n",
    "\n",
    "trace_S = pd.read_csv('/Users/mason/data/'+date+'/'+test+'/'+test+'_S.csv')\n",
    "trace_EW = pd.read_csv('/Users/mason/data/'+date+'/'+test+'/'+test+'_EW.csv')\n",
    "traces = {'S':trace_S, 'EW':trace_EW}"
   ]
  },
  {
   "cell_type": "code",
   "execution_count": 6,
   "id": "0d8360e1",
   "metadata": {},
   "outputs": [],
   "source": [
    "var = 'b'\n",
    "\n",
    "rhosun = 1.40978\n",
    "RHO_OBS = (rhosun, 0.1*rhosun)\n",
    "\n",
    "rho_circ = traces[\"S\"][\"rho\"]\n",
    "\n",
    "d2 = traces['EW'][var].values\n",
    "w2 = None"
   ]
  },
  {
   "cell_type": "code",
   "execution_count": 7,
   "id": "efacee65",
   "metadata": {},
   "outputs": [
    {
     "data": {
      "image/png": "[encoded data removed]",
      "text/plain": [
       "<Figure size 432x288 with 1 Axes>"
      ]
     },
     "metadata": {
      "needs_background": "light"
     },
     "output_type": "display_data"
    },
    {
     "data": {
      "image/png": "[encoded data removed]",
      "text/plain": [
       "<Figure size 432x288 with 1 Axes>"
      ]
     },
     "metadata": {
      "needs_background": "light"
     },
     "output_type": "display_data"
    }
   ],
   "source": [
    "# Apply importance sampling and print the KS statistic (and p-value)\n",
    "# between the importance sampled 'ecc' from log(T) sampling vs. 'ecc' from e-omega-rho sampling\n",
    "\n",
    "weights, ecc, omega = imp_sample(rho_circ, RHO_OBS)\n",
    "\n",
    "traces['S']['ecc'] = ecc\n",
    "traces['S']['omega'] = omega\n",
    "\n",
    "d1 = traces['S'][var].values\n",
    "w1 = weights\n",
    "\n",
    "\n",
    "fig = plt.figure()\n",
    "plt.hist(d1, weights=w1, \n",
    "         bins=20, alpha=0.3, density=True);\n",
    "plt.hist(d2, \n",
    "         bins=20, alpha=0.3, density=True);\n",
    "plt.ylabel('PDF', fontsize=15)\n",
    "plt.xlabel(var, fontsize=15)\n",
    "plt.show();\n",
    "\n",
    "\n",
    "fig = plt.figure()\n",
    "plt.hist(d1, weights=w1, \n",
    "         bins=20, alpha=0.3, density=True, cumulative=True);\n",
    "plt.hist(d2, \n",
    "         bins=20, alpha=0.3, density=True, cumulative=True);\n",
    "plt.ylabel('CDF', fontsize=15)\n",
    "plt.xlabel(var, fontsize=15)\n",
    "plt.show();\n"
   ]
  },
  {
   "cell_type": "markdown",
   "id": "334b6adb",
   "metadata": {},
   "source": [
    "From the PDF and CDF above, they look like a good match! So what does the KS test show..."
   ]
  },
  {
   "cell_type": "code",
   "execution_count": 8,
   "id": "0455dd8d",
   "metadata": {},
   "outputs": [
    {
     "name": "stdout",
     "output_type": "stream",
     "text": [
      "{'statistic': 0.02915577380017398, 'pvalue': 8.087888578752741e-08}\n"
     ]
    },
    {
     "data": {
      "image/png": "[encoded data removed]",
      "text/plain": [
       "<Figure size 432x432 with 2 Axes>"
      ]
     },
     "metadata": {
      "needs_background": "light"
     },
     "output_type": "display_data"
    }
   ],
   "source": [
    "ks_stats, cdf1, cdf2 = ks_2samp_weights(d1, d2, w1, w2, \n",
    "                                        saveplot=False, show=True)\n",
    "\n",
    "print(ks_stats)"
   ]
  },
  {
   "cell_type": "markdown",
   "id": "f1b24abf",
   "metadata": {},
   "source": [
    "Given n_data = 20000, even small deviations between the distributions result in a KS statistic that suggests these are independent, unrelated distributions. Which is not what we were hoping to see!\n",
    "\n",
    "Since importance sampling involves random draws of {e, omega}, lets run this many times and see what the distribution of p-values is"
   ]
  },
  {
   "cell_type": "code",
   "execution_count": 9,
   "id": "ff736fef",
   "metadata": {},
   "outputs": [],
   "source": [
    "ks_stat_vals = []\n",
    "pvals = []\n",
    "\n",
    "n_runs = 500\n",
    "n_data = len(traces['EW']['ecc'])\n",
    "for i in range(n_runs):\n",
    "    weights, ecc, omega = imp_sample(rho_circ, RHO_OBS)\n",
    "\n",
    "    traces['S']['ecc'] = ecc\n",
    "    traces['S']['omega'] = omega\n",
    "\n",
    "    d1 = traces['S'][var].values\n",
    "    w1 = weights\n",
    "\n",
    "    ks_stats, cdf1, cdf2 = ks_2samp_weights(d1, d2, w1, w2, \n",
    "                                            saveplot=False, show=False)\n",
    "    ks_stat_vals.append(ks_stats['statistic'])\n",
    "    pvals.append(ks_stats['pvalue'])\n",
    "    "
   ]
  },
  {
   "cell_type": "code",
   "execution_count": 10,
   "id": "4cc6d1fd",
   "metadata": {},
   "outputs": [
    {
     "name": "stdout",
     "output_type": "stream",
     "text": [
      "n_runs = 500\n",
      "n_samples = 20000\n",
      "Fraction with p-value > 0.05:  6.0%\n"
     ]
    },
    {
     "data": {
      "image/png": "[encoded data removed]",
      "text/plain": [
       "<Figure size 432x288 with 1 Axes>"
      ]
     },
     "metadata": {
      "needs_background": "light"
     },
     "output_type": "display_data"
    }
   ],
   "source": [
    "plt.hist(np.log10(pvals), bins=50);\n",
    "plt.axvline(np.log10(0.05), color='k', ls='--', alpha=0.8, label='p-val = 0.05')\n",
    "print('n_runs =', n_runs)\n",
    "print('n_samples =', n_data)\n",
    "print('Fraction with p-value > 0.05: ', str(round(sum(np.array(pvals)>0.05)/n_runs*100,2))+'%')\n",
    "plt.xlabel('log10(p-value)', fontsize=18);\n",
    "plt.ylabel('count', fontsize=18);\n",
    "plt.legend(fontsize=15);"
   ]
  },
  {
   "cell_type": "markdown",
   "id": "fd25ef18",
   "metadata": {},
   "source": [
    "Only a few percent of these tests have p-values > 0.05, which is concerning...\n",
    "\n",
    "However, we also noticed that many of the importance sampled weights are small - like, really small:"
   ]
  },
  {
   "cell_type": "code",
   "execution_count": 11,
   "id": "9f180cf3",
   "metadata": {},
   "outputs": [
    {
     "name": "stdout",
     "output_type": "stream",
     "text": [
      "Percent of data with zero weight: 8.26%\n"
     ]
    }
   ],
   "source": [
    "print('Percent of data with zero weight: %.2f%%'%(round(sum(weights == 0)/n_data*100,2)))"
   ]
  },
  {
   "cell_type": "code",
   "execution_count": 12,
   "id": "4501c95e",
   "metadata": {},
   "outputs": [
    {
     "data": {
      "text/plain": [
       "Text(0, 0.5, 'count')"
      ]
     },
     "execution_count": 12,
     "metadata": {},
     "output_type": "execute_result"
    },
    {
     "data": {
      "image/png": "[encoded data removed]",
      "text/plain": [
       "<Figure size 432x288 with 1 Axes>"
      ]
     },
     "metadata": {
      "needs_background": "light"
     },
     "output_type": "display_data"
    }
   ],
   "source": [
    "# Now plot histogram of log10 of all non-zero weights\n",
    "plt.hist(np.log10(weights[weights>0]), bins=100); \n",
    "plt.xlabel('log10(weight)', fontsize=18)\n",
    "plt.ylabel('count', fontsize=18)"
   ]
  },
  {
   "cell_type": "markdown",
   "id": "8d28e769",
   "metadata": {},
   "source": [
    "That's a lot of small weights!\n",
    "\n",
    "Let's zoom in on that peak over there..."
   ]
  },
  {
   "cell_type": "code",
   "execution_count": 13,
   "id": "09d9a67e",
   "metadata": {},
   "outputs": [
    {
     "data": {
      "text/plain": [
       "Text(0, 0.5, 'count')"
      ]
     },
     "execution_count": 13,
     "metadata": {},
     "output_type": "execute_result"
    },
    {
     "data": {
      "image/png": "[encoded data removed]",
      "text/plain": [
       "<Figure size 432x288 with 1 Axes>"
      ]
     },
     "metadata": {
      "needs_background": "light"
     },
     "output_type": "display_data"
    }
   ],
   "source": [
    "plt.hist(np.log10(weights[weights>0]), bins=100, range=[-30,0]);\n",
    "plt.xlim(-30,0)\n",
    "plt.xlabel('log10(weight)', fontsize=18)\n",
    "plt.ylabel('count', fontsize=18)"
   ]
  },
  {
   "cell_type": "markdown",
   "id": "5b58b785",
   "metadata": {},
   "source": [
    "Clearly there are a lot of tiny weights, and these may be throwing off our analysis"
   ]
  },
  {
   "cell_type": "markdown",
   "id": "5a89f2fd",
   "metadata": {},
   "source": [
    "# Possible solution:\n",
    "- Give zero weight to anything with initial weight < 1% of the maximum weight\n",
    "- Throw out all data with zero weight\n",
    "- Resample a given number ('n_data') of data points (and associated weights) from the importance sampled data\n",
    "- Resample the same number of data points from the non-weighted data\n",
    "- Perform a two-sample weighted KS test on these new resampled subsets of data"
   ]
  },
  {
   "cell_type": "code",
   "execution_count": 14,
   "id": "981e6c92",
   "metadata": {},
   "outputs": [],
   "source": [
    "ks_stat_vals = []\n",
    "pvals = []\n",
    "kept_data = []\n",
    "\n",
    "n_runs = 500\n",
    "n_data = 1000\n",
    "\n",
    "for i in range(n_runs):\n",
    "    \n",
    "    # This part of importance sampling is the same as 'imp_sample' function\n",
    "    ecc = np.random.uniform(0., 1., len(rho_circ))\n",
    "    omega = np.random.uniform(-0.5*np.pi, 1.5*np.pi, len(rho_circ))\n",
    "\n",
    "    g = (1 + ecc * np.sin(omega)) / np.sqrt(1 - ecc ** 2)\n",
    "    rho = rho_circ / g ** 3\n",
    "\n",
    "    log_weight = -0.5 * ((rho - RHO_OBS[0]) / RHO_OBS[1]) ** 2\n",
    "    weight_rho = np.exp(log_weight - np.max(log_weight))\n",
    "    weight_rho /= np.sum(weight_rho)\n",
    "\n",
    "    # Here, we set weights to zero if they are initially < 1% of max weight \n",
    "    tol = weight_rho.max()/100\n",
    "    weight_rho[weight_rho < tol] = 0\n",
    "\n",
    "    weights = np.array(weight_rho/np.sum(weight_rho))\n",
    "\n",
    "    # Store 'ecc' and 'omega' in traces['S'] temporarily, \n",
    "    # so that any variable can be called by: traces['S'][var]\n",
    "    traces['S']['ecc'] = ecc\n",
    "    traces['S']['omega'] = omega\n",
    "\n",
    "    # Keep only non-zero weighted data\n",
    "    weights_nonzero = weights>0\n",
    "\n",
    "    tot = sum(weights_nonzero)\n",
    "    kept_data.append(tot)\n",
    "\n",
    "    weights = weights[weights_nonzero]\n",
    "    trace_S_var = traces['S'][var].values[weights_nonzero]\n",
    "\n",
    "\n",
    "    # Resample 'n_data' data points from both the importance sampled data and\n",
    "    # the empirical data from e-omega-rho results ('EW')\n",
    "    trace_EW_var = traces['EW'][var].values\n",
    "    idx1 = np.random.choice(range(tot), n_data, replace=False)\n",
    "    idx2 = np.random.choice(range(len(trace_EW_var)), n_data, replace=False)\n",
    "\n",
    "    d1 = trace_S_var[idx1]\n",
    "    d2 = trace_EW_var[idx2]\n",
    "\n",
    "    w1 = weights[idx1]\n",
    "    w2 = None\n",
    "\n",
    "    # Run KS test\n",
    "    ks_stats, cdf1, cdf2 = ks_2samp_weights(d1, d2, w1, None, \n",
    "                                            saveplot=False, show=False)\n",
    "    ks_stat_vals.append(ks_stats['statistic'])\n",
    "    pvals.append(ks_stats['pvalue'])"
   ]
  },
  {
   "cell_type": "code",
   "execution_count": 15,
   "id": "773cfd3b",
   "metadata": {},
   "outputs": [
    {
     "name": "stdout",
     "output_type": "stream",
     "text": [
      "n_runs = 500\n",
      "n_samples = 1000\n",
      "Fraction with p-value > 0.05:  86.0%\n"
     ]
    },
    {
     "data": {
      "image/png": "[encoded data removed]",
      "text/plain": [
       "<Figure size 432x288 with 1 Axes>"
      ]
     },
     "metadata": {
      "needs_background": "light"
     },
     "output_type": "display_data"
    }
   ],
   "source": [
    "plt.hist(np.log10(pvals), bins=50);\n",
    "plt.axvline(np.log10(0.05), color='k', ls='--', alpha=0.8, label='p-val = 0.05')\n",
    "print('n_runs =', n_runs)\n",
    "print('n_samples =', n_data)\n",
    "print('Fraction with p-value > 0.05: ', str(round(sum(np.array(pvals)>0.05)/n_runs*100,2))+'%')\n",
    "plt.xlabel('log10(p-value)', fontsize=18);\n",
    "plt.ylabel('count', fontsize=18);\n",
    "plt.legend(fontsize=15);"
   ]
  },
  {
   "cell_type": "markdown",
   "id": "560bfef6",
   "metadata": {},
   "source": [
    "That looks much more reasonable! ~85% of runs have p-values > 0.05\n",
    "\n",
    "Now, what if we show this same metric for our identical gaussians test case from earlier..."
   ]
  },
  {
   "cell_type": "code",
   "execution_count": 16,
   "id": "da03bd2e",
   "metadata": {},
   "outputs": [],
   "source": [
    "w1 = None\n",
    "w2 = None\n",
    "\n",
    "ks_stat_vals = []\n",
    "pvals = []\n",
    "\n",
    "n_runs = 500\n",
    "n_data = 1000\n",
    "\n",
    "for i in range(n_runs):\n",
    "    d1 = np.random.normal(0, 1, n_data)\n",
    "    d2 = np.random.normal(0, 1, n_data)\n",
    "\n",
    "    ks_stats, cdf1, cdf2 = ks_2samp_weights(d1, d2, w1, w2, \n",
    "                                            saveplot=False, show=False)\n",
    "    ks_stat_vals.append(ks_stats['statistic'])\n",
    "    pvals.append(ks_stats['pvalue'])\n",
    "    "
   ]
  },
  {
   "cell_type": "code",
   "execution_count": 17,
   "id": "24144938",
   "metadata": {},
   "outputs": [
    {
     "name": "stdout",
     "output_type": "stream",
     "text": [
      "n_runs = 500\n",
      "n_samples = 1000\n",
      "Fraction with p-value > 0.05:  95.0%\n"
     ]
    },
    {
     "data": {
      "image/png": "[encoded data removed]",
      "text/plain": [
       "<Figure size 432x288 with 1 Axes>"
      ]
     },
     "metadata": {
      "needs_background": "light"
     },
     "output_type": "display_data"
    }
   ],
   "source": [
    "plt.hist(np.log10(pvals), bins=50);\n",
    "plt.axvline(np.log10(0.05), color='k', ls='--', alpha=0.8, label='p-val = 0.05')\n",
    "print('n_runs =', n_runs)\n",
    "print('n_samples =', n_data)\n",
    "print('Fraction with p-value > 0.05: ', str(round(sum(np.array(pvals)>0.05)/n_runs*100,2))+'%')\n",
    "plt.xlabel('log10(p-value)', fontsize=18);\n",
    "plt.ylabel('count', fontsize=18);\n",
    "plt.legend(fontsize=15);"
   ]
  },
  {
   "cell_type": "markdown",
   "id": "493924a1",
   "metadata": {},
   "source": [
    "Alright, so we find that out of 500 runs, p-value > 0.05 for ~95% of runs in our test case vs. ~85% of runs in our example with real data\n",
    "\n",
    "That seems like good agreement to me! (given that the real data is likely to be less precise than identical gaussians created from the same function)"
   ]
  },
  {
   "cell_type": "markdown",
   "id": "bbaa2e97",
   "metadata": {},
   "source": [
    "# New concern?\n",
    "But this raises a concern regarding how much of the data we have to throw out from our original.\n",
    "\n",
    "So let's check how much of the data we are actually keeping from the 20000 data points in the weighted sample"
   ]
  },
  {
   "cell_type": "code",
   "execution_count": 18,
   "id": "b298e2fe",
   "metadata": {},
   "outputs": [
    {
     "name": "stdout",
     "output_type": "stream",
     "text": [
      "Average fraction of data that is kept after throwing out low weights: 0.164\n"
     ]
    },
    {
     "data": {
      "image/png": "[encoded data removed]",
      "text/plain": [
       "<Figure size 432x288 with 1 Axes>"
      ]
     },
     "metadata": {
      "needs_background": "light"
     },
     "output_type": "display_data"
    }
   ],
   "source": [
    "plt.hist(np.array(kept_data)/20000, bins=50);\n",
    "plt.xlabel('Fraction of data that is kept', fontsize=18);\n",
    "plt.ylabel('count', fontsize=18);\n",
    "print('Average fraction of data that is kept after throwing out low weights:', \n",
    "      round(np.mean(np.array(kept_data)/20000),3))\n"
   ]
  },
  {
   "cell_type": "markdown",
   "id": "2a245bec",
   "metadata": {},
   "source": [
    "So we're only retaining ~16% of the original data, which probably isn't good\n",
    "\n",
    "However, we are getting the right answer, which is at least reassuring. \n",
    "\n",
    "So is there a way we can retain more data but still get the right answer? Or maybe we should use another statistical test?"
   ]
  },
  {
   "cell_type": "code",
   "execution_count": null,
   "id": "63e610a3",
   "metadata": {},
   "outputs": [],
   "source": []
  },
  {
   "cell_type": "code",
   "execution_count": null,
   "id": "25c83942",
   "metadata": {},
   "outputs": [],
   "source": []
  }
 ],
 "metadata": {
  "kernelspec": {
   "display_name": "Python 3 (ipykernel)",
   "language": "python",
   "name": "python3"
  },
  "language_info": {
   "codemirror_mode": {
    "name": "ipython",
    "version": 3
   },
   "file_extension": ".py",
   "mimetype": "text/x-python",
   "name": "python",
   "nbconvert_exporter": "python",
   "pygments_lexer": "ipython3",
   "version": "3.9.7"
  }
 },
 "nbformat": 4,
 "nbformat_minor": 5
}
